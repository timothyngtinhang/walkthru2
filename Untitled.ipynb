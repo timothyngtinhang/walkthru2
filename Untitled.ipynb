{
 "cells": [
  {
   "cell_type": "markdown",
   "id": "42aa53e1-f3e9-4fc7-b455-3be23d0402b8",
   "metadata": {},
   "source": []
  },
  {
   "cell_type": "markdown",
   "id": "3c45c3f7-3526-4b61-a12e-b9bdbc973b22",
   "metadata": {},
   "source": [
    "##### walkkthru sample notebook"
   ]
  },
  {
   "cell_type": "markdown",
   "id": "f99af229-e872-4760-9a7f-dae75400213e",
   "metadata": {},
   "source": [
    "Here is how I calculate `1+1`:\n"
   ]
  },
  {
   "cell_type": "code",
   "execution_count": 2,
   "id": "a8ef14a8-f35f-48b5-a93b-64dc85006f52",
   "metadata": {},
   "outputs": [
    {
     "data": {
      "text/plain": [
       "2"
      ]
     },
     "execution_count": 2,
     "metadata": {},
     "output_type": "execute_result"
    }
   ],
   "source": [
    "1+1\n"
   ]
  },
  {
   "cell_type": "code",
   "execution_count": 4,
   "id": "b6d5e56b-c9be-420f-8ccd-104407722e4e",
   "metadata": {},
   "outputs": [],
   "source": [
    "from numpy import *\n"
   ]
  },
  {
   "cell_type": "markdown",
   "id": "4c2d42eb-2545-44ae-93b7-585809aaa7f4",
   "metadata": {},
   "source": [
    "Here is how I cacluate `sin`"
   ]
  },
  {
   "cell_type": "code",
   "execution_count": null,
   "id": "3cead89e-5a57-4fdb-b03e-31a259d5ecf9",
   "metadata": {},
   "outputs": [],
   "source": [
    "a = array[1.0, pi.2"
   ]
  }
 ],
 "metadata": {
  "kernelspec": {
   "display_name": "Python 3 (ipykernel)",
   "language": "python",
   "name": "python3"
  },
  "language_info": {
   "codemirror_mode": {
    "name": "ipython",
    "version": 3
   },
   "file_extension": ".py",
   "mimetype": "text/x-python",
   "name": "python",
   "nbconvert_exporter": "python",
   "pygments_lexer": "ipython3",
   "version": "3.12.2"
  }
 },
 "nbformat": 4,
 "nbformat_minor": 5
}
